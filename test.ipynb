{
 "cells": [
  {
   "cell_type": "code",
   "execution_count": 8,
   "metadata": {},
   "outputs": [
    {
     "name": "stdout",
     "output_type": "stream",
     "text": [
      "0\n",
      "[1, 1, 0.3]\n",
      "1\n",
      "1\n",
      "[0, 0.30000000000000004, -0.5]\n"
     ]
    }
   ],
   "source": [
    "example = [\n",
    "\n",
    "  [ 1, 1, 0.3, 1 ],\n",
    "  [ 1, 0.4, 0.5, 1 ],\n",
    "  [ 1, 0.7, 0.8, 0 ]\n",
    "]\n",
    "#4 колонка: груша (1) или нет (0)\n",
    "\n",
    "w = [ 0, 0, 0 ]\n",
    "\n",
    "perfect = False\n",
    "\n",
    "for e in example:\n",
    "   dot = e[0]*w[0] + e[1]*w[1] + e[2]*w[2]\n",
    "   predict = int(dot > 0)\n",
    "   print(predict)\n",
    "   target = e[3]\n",
    "   if predict != target:\n",
    "     perfect = False\n",
    "     if predict == 0:\n",
    "       w[0] = w[0] + e[0]\n",
    "       w[1] = w[1] + e[1]\n",
    "       w[2] = w[2] + e[2]\n",
    "     else:\n",
    "       w[0] = w[0] - e[0]\n",
    "       w[1] = w[1] - e[1]\n",
    "       w[2] = w[2] - e[2]\n",
    "     print( w )"
   ]
  }
 ],
 "metadata": {
  "kernelspec": {
   "display_name": "Python 3",
   "language": "python",
   "name": "python3"
  },
  "language_info": {
   "codemirror_mode": {
    "name": "ipython",
    "version": 3
   },
   "file_extension": ".py",
   "mimetype": "text/x-python",
   "name": "python",
   "nbconvert_exporter": "python",
   "pygments_lexer": "ipython3",
   "version": "3.7.6"
  }
 },
 "nbformat": 4,
 "nbformat_minor": 4
}
