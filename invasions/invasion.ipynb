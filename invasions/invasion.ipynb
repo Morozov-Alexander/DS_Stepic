{
 "cells": [
  {
   "cell_type": "code",
   "execution_count": 76,
   "metadata": {},
   "outputs": [],
   "source": [
    "import pandas as pd\n",
    "import numpy as np\n",
    "from sklearn import tree\n",
    "from sklearn.ensemble import RandomForestClassifier\n",
    "from sklearn.model_selection import RandomizedSearchCV\n",
    "from sklearn.model_selection import GridSearchCV"
   ]
  },
  {
   "cell_type": "code",
   "execution_count": 6,
   "metadata": {},
   "outputs": [
    {
     "data": {
      "text/html": [
       "<div>\n",
       "<style scoped>\n",
       "    .dataframe tbody tr th:only-of-type {\n",
       "        vertical-align: middle;\n",
       "    }\n",
       "\n",
       "    .dataframe tbody tr th {\n",
       "        vertical-align: top;\n",
       "    }\n",
       "\n",
       "    .dataframe thead th {\n",
       "        text-align: right;\n",
       "    }\n",
       "</style>\n",
       "<table border=\"1\" class=\"dataframe\">\n",
       "  <thead>\n",
       "    <tr style=\"text-align: right;\">\n",
       "      <th></th>\n",
       "      <th>class</th>\n",
       "      <th>g_reflection</th>\n",
       "      <th>i_reflection</th>\n",
       "      <th>speed</th>\n",
       "      <th>brightness</th>\n",
       "      <th>time_of_observance</th>\n",
       "      <th>volume</th>\n",
       "    </tr>\n",
       "  </thead>\n",
       "  <tbody>\n",
       "    <tr>\n",
       "      <th>0</th>\n",
       "      <td>transport</td>\n",
       "      <td>2.190672</td>\n",
       "      <td>6.716633</td>\n",
       "      <td>62.168208</td>\n",
       "      <td>0.347465</td>\n",
       "      <td>158221</td>\n",
       "      <td>44.932446</td>\n",
       "    </tr>\n",
       "    <tr>\n",
       "      <th>1</th>\n",
       "      <td>transport</td>\n",
       "      <td>3.453276</td>\n",
       "      <td>8.995909</td>\n",
       "      <td>62.994707</td>\n",
       "      <td>0.590094</td>\n",
       "      <td>385972</td>\n",
       "      <td>41.568300</td>\n",
       "    </tr>\n",
       "    <tr>\n",
       "      <th>2</th>\n",
       "      <td>transport</td>\n",
       "      <td>2.432994</td>\n",
       "      <td>6.938691</td>\n",
       "      <td>62.245807</td>\n",
       "      <td>0.329288</td>\n",
       "      <td>446482</td>\n",
       "      <td>40.123467</td>\n",
       "    </tr>\n",
       "    <tr>\n",
       "      <th>3</th>\n",
       "      <td>fighter</td>\n",
       "      <td>6.083763</td>\n",
       "      <td>3.019459</td>\n",
       "      <td>18.474555</td>\n",
       "      <td>0.174738</td>\n",
       "      <td>210125</td>\n",
       "      <td>11.384865</td>\n",
       "    </tr>\n",
       "    <tr>\n",
       "      <th>4</th>\n",
       "      <td>fighter</td>\n",
       "      <td>12.876769</td>\n",
       "      <td>2.452950</td>\n",
       "      <td>195.805771</td>\n",
       "      <td>0.150446</td>\n",
       "      <td>23109</td>\n",
       "      <td>11.328806</td>\n",
       "    </tr>\n",
       "  </tbody>\n",
       "</table>\n",
       "</div>"
      ],
      "text/plain": [
       "       class  g_reflection  i_reflection       speed  brightness  \\\n",
       "0  transport      2.190672      6.716633   62.168208    0.347465   \n",
       "1  transport      3.453276      8.995909   62.994707    0.590094   \n",
       "2  transport      2.432994      6.938691   62.245807    0.329288   \n",
       "3    fighter      6.083763      3.019459   18.474555    0.174738   \n",
       "4    fighter     12.876769      2.452950  195.805771    0.150446   \n",
       "\n",
       "   time_of_observance     volume  \n",
       "0              158221  44.932446  \n",
       "1              385972  41.568300  \n",
       "2              446482  40.123467  \n",
       "3              210125  11.384865  \n",
       "4               23109  11.328806  "
      ]
     },
     "execution_count": 6,
     "metadata": {},
     "output_type": "execute_result"
    }
   ],
   "source": [
    "invasion_pd = pd.read_csv('invasion.csv')\n",
    "invasion_pd.head()"
   ]
  },
  {
   "cell_type": "code",
   "execution_count": 9,
   "metadata": {},
   "outputs": [],
   "source": [
    "Y = invasion_pd['class']\n",
    "X = invasion_pd.drop('class' , axis = 1)"
   ]
  },
  {
   "cell_type": "code",
   "execution_count": 103,
   "metadata": {},
   "outputs": [],
   "source": [
    "clf_rf = RandomForestClassifier()\n",
    "params = {'max_depth' : range(1,10), 'n_estimators' :[10,20,30],\n",
    "          'min_samples_leaf' : range(1,20),'min_samples_split' : range(1,20) }"
   ]
  },
  {
   "cell_type": "code",
   "execution_count": 106,
   "metadata": {},
   "outputs": [],
   "source": [
    "prediction = GridSearchCV(clf_rf, params,cv = 3, n_jobs = -1,verbose = 1)"
   ]
  },
  {
   "cell_type": "code",
   "execution_count": 107,
   "metadata": {},
   "outputs": [
    {
     "name": "stdout",
     "output_type": "stream",
     "text": [
      "Fitting 3 folds for each of 9747 candidates, totalling 29241 fits\n"
     ]
    },
    {
     "name": "stderr",
     "output_type": "stream",
     "text": [
      "[Parallel(n_jobs=-1)]: Using backend LokyBackend with 8 concurrent workers.\n",
      "[Parallel(n_jobs=-1)]: Done  34 tasks      | elapsed:    1.9s\n",
      "[Parallel(n_jobs=-1)]: Done 560 tasks      | elapsed:    5.6s\n",
      "[Parallel(n_jobs=-1)]: Done 1560 tasks      | elapsed:   13.0s\n",
      "[Parallel(n_jobs=-1)]: Done 2960 tasks      | elapsed:   24.2s\n",
      "[Parallel(n_jobs=-1)]: Done 4760 tasks      | elapsed:   38.9s\n",
      "[Parallel(n_jobs=-1)]: Done 6960 tasks      | elapsed:   56.8s\n",
      "[Parallel(n_jobs=-1)]: Done 9560 tasks      | elapsed:  1.3min\n",
      "[Parallel(n_jobs=-1)]: Done 12560 tasks      | elapsed:  1.7min\n",
      "[Parallel(n_jobs=-1)]: Done 15960 tasks      | elapsed:  2.2min\n",
      "[Parallel(n_jobs=-1)]: Done 19760 tasks      | elapsed:  2.7min\n",
      "[Parallel(n_jobs=-1)]: Done 23960 tasks      | elapsed:  3.3min\n",
      "[Parallel(n_jobs=-1)]: Done 28560 tasks      | elapsed:  3.9min\n",
      "[Parallel(n_jobs=-1)]: Done 29241 out of 29241 | elapsed:  4.0min finished\n"
     ]
    },
    {
     "data": {
      "text/plain": [
       "GridSearchCV(cv=3, error_score=nan,\n",
       "             estimator=RandomForestClassifier(bootstrap=True, ccp_alpha=0.0,\n",
       "                                              class_weight=None,\n",
       "                                              criterion='gini', max_depth=None,\n",
       "                                              max_features='auto',\n",
       "                                              max_leaf_nodes=None,\n",
       "                                              max_samples=None,\n",
       "                                              min_impurity_decrease=0.0,\n",
       "                                              min_impurity_split=None,\n",
       "                                              min_samples_leaf=1,\n",
       "                                              min_samples_split=2,\n",
       "                                              min_weight_fraction_leaf=0.0,\n",
       "                                              n_estimators=100, n_jobs=None,\n",
       "                                              oob_score=False,\n",
       "                                              random_state=None, verbose=0,\n",
       "                                              warm_start=False),\n",
       "             iid='deprecated', n_jobs=-1,\n",
       "             param_grid={'max_depth': range(1, 10),\n",
       "                         'min_samples_leaf': range(1, 20),\n",
       "                         'min_samples_split': range(1, 20),\n",
       "                         'n_estimators': [10, 20, 30]},\n",
       "             pre_dispatch='2*n_jobs', refit=True, return_train_score=False,\n",
       "             scoring=None, verbose=1)"
      ]
     },
     "execution_count": 107,
     "metadata": {},
     "output_type": "execute_result"
    }
   ],
   "source": [
    "prediction.fit(X,Y)"
   ]
  },
  {
   "cell_type": "code",
   "execution_count": 108,
   "metadata": {},
   "outputs": [
    {
     "data": {
      "text/plain": [
       "{'max_depth': 2,\n",
       " 'min_samples_leaf': 1,\n",
       " 'min_samples_split': 2,\n",
       " 'n_estimators': 20}"
      ]
     },
     "execution_count": 108,
     "metadata": {},
     "output_type": "execute_result"
    }
   ],
   "source": [
    "prediction.best_params_"
   ]
  },
  {
   "cell_type": "raw",
   "metadata": {},
   "source": [
    "operative_information_pd = pd.read_csv('operative_information.csv')\n",
    "operative_information_pd.head()"
   ]
  },
  {
   "cell_type": "code",
   "execution_count": 64,
   "metadata": {},
   "outputs": [
    {
     "data": {
      "text/plain": [
       "fighter      640\n",
       "transport    621\n",
       "cruiser      239\n",
       "dtype: int64"
      ]
     },
     "execution_count": 64,
     "metadata": {},
     "output_type": "execute_result"
    }
   ],
   "source": [
    "pd.Series(prediction.best_estimator_.predict(operative_information_pd)).value_counts()"
   ]
  },
  {
   "cell_type": "code",
   "execution_count": 109,
   "metadata": {},
   "outputs": [
    {
     "data": {
      "text/html": [
       "<div>\n",
       "<style scoped>\n",
       "    .dataframe tbody tr th:only-of-type {\n",
       "        vertical-align: middle;\n",
       "    }\n",
       "\n",
       "    .dataframe tbody tr th {\n",
       "        vertical-align: top;\n",
       "    }\n",
       "\n",
       "    .dataframe thead th {\n",
       "        text-align: right;\n",
       "    }\n",
       "</style>\n",
       "<table border=\"1\" class=\"dataframe\">\n",
       "  <thead>\n",
       "    <tr style=\"text-align: right;\">\n",
       "      <th></th>\n",
       "      <th>importance</th>\n",
       "    </tr>\n",
       "  </thead>\n",
       "  <tbody>\n",
       "    <tr>\n",
       "      <th>time_of_observance</th>\n",
       "      <td>0.000000</td>\n",
       "    </tr>\n",
       "    <tr>\n",
       "      <th>i_reflection</th>\n",
       "      <td>0.053540</td>\n",
       "    </tr>\n",
       "    <tr>\n",
       "      <th>speed</th>\n",
       "      <td>0.156669</td>\n",
       "    </tr>\n",
       "    <tr>\n",
       "      <th>g_reflection</th>\n",
       "      <td>0.235885</td>\n",
       "    </tr>\n",
       "    <tr>\n",
       "      <th>brightness</th>\n",
       "      <td>0.254367</td>\n",
       "    </tr>\n",
       "    <tr>\n",
       "      <th>volume</th>\n",
       "      <td>0.299540</td>\n",
       "    </tr>\n",
       "  </tbody>\n",
       "</table>\n",
       "</div>"
      ],
      "text/plain": [
       "                    importance\n",
       "time_of_observance    0.000000\n",
       "i_reflection          0.053540\n",
       "speed                 0.156669\n",
       "g_reflection          0.235885\n",
       "brightness            0.254367\n",
       "volume                0.299540"
      ]
     },
     "execution_count": 109,
     "metadata": {},
     "output_type": "execute_result"
    }
   ],
   "source": [
    "pd.DataFrame(prediction.best_estimator_.feature_importances_, index = X.columns,\n",
    "            columns = ['importance']).sort_values(by = 'importance')"
   ]
  },
  {
   "cell_type": "code",
   "execution_count": 110,
   "metadata": {},
   "outputs": [
    {
     "data": {
      "text/html": [
       "<div>\n",
       "<style scoped>\n",
       "    .dataframe tbody tr th:only-of-type {\n",
       "        vertical-align: middle;\n",
       "    }\n",
       "\n",
       "    .dataframe tbody tr th {\n",
       "        vertical-align: top;\n",
       "    }\n",
       "\n",
       "    .dataframe thead th {\n",
       "        text-align: right;\n",
       "    }\n",
       "</style>\n",
       "<table border=\"1\" class=\"dataframe\">\n",
       "  <thead>\n",
       "    <tr style=\"text-align: right;\">\n",
       "      <th></th>\n",
       "      <th>r</th>\n",
       "      <th>phi</th>\n",
       "      <th>peradventure_index</th>\n",
       "      <th>dustiness</th>\n",
       "      <th>black_hole_is_near</th>\n",
       "      <th>buggers_were_noticed</th>\n",
       "      <th>nearby_system_has_planemo</th>\n",
       "      <th>dangerous</th>\n",
       "    </tr>\n",
       "  </thead>\n",
       "  <tbody>\n",
       "    <tr>\n",
       "      <th>0</th>\n",
       "      <td>169.1</td>\n",
       "      <td>138.0</td>\n",
       "      <td>22.3212</td>\n",
       "      <td>0.706285</td>\n",
       "      <td>0</td>\n",
       "      <td>1</td>\n",
       "      <td>1</td>\n",
       "      <td>1</td>\n",
       "    </tr>\n",
       "    <tr>\n",
       "      <th>1</th>\n",
       "      <td>11.1</td>\n",
       "      <td>148.0</td>\n",
       "      <td>1.4652</td>\n",
       "      <td>-0.410512</td>\n",
       "      <td>1</td>\n",
       "      <td>1</td>\n",
       "      <td>1</td>\n",
       "      <td>1</td>\n",
       "    </tr>\n",
       "    <tr>\n",
       "      <th>2</th>\n",
       "      <td>274.6</td>\n",
       "      <td>201.0</td>\n",
       "      <td>36.2472</td>\n",
       "      <td>0.756457</td>\n",
       "      <td>1</td>\n",
       "      <td>1</td>\n",
       "      <td>1</td>\n",
       "      <td>1</td>\n",
       "    </tr>\n",
       "    <tr>\n",
       "      <th>3</th>\n",
       "      <td>172.8</td>\n",
       "      <td>173.0</td>\n",
       "      <td>22.8096</td>\n",
       "      <td>0.035221</td>\n",
       "      <td>1</td>\n",
       "      <td>1</td>\n",
       "      <td>1</td>\n",
       "      <td>1</td>\n",
       "    </tr>\n",
       "    <tr>\n",
       "      <th>4</th>\n",
       "      <td>223.3</td>\n",
       "      <td>222.0</td>\n",
       "      <td>29.4756</td>\n",
       "      <td>0.197271</td>\n",
       "      <td>0</td>\n",
       "      <td>1</td>\n",
       "      <td>1</td>\n",
       "      <td>1</td>\n",
       "    </tr>\n",
       "  </tbody>\n",
       "</table>\n",
       "</div>"
      ],
      "text/plain": [
       "       r    phi  peradventure_index  dustiness  black_hole_is_near  \\\n",
       "0  169.1  138.0             22.3212   0.706285                   0   \n",
       "1   11.1  148.0              1.4652  -0.410512                   1   \n",
       "2  274.6  201.0             36.2472   0.756457                   1   \n",
       "3  172.8  173.0             22.8096   0.035221                   1   \n",
       "4  223.3  222.0             29.4756   0.197271                   0   \n",
       "\n",
       "   buggers_were_noticed  nearby_system_has_planemo  dangerous  \n",
       "0                     1                          1          1  \n",
       "1                     1                          1          1  \n",
       "2                     1                          1          1  \n",
       "3                     1                          1          1  \n",
       "4                     1                          1          1  "
      ]
     },
     "execution_count": 110,
     "metadata": {},
     "output_type": "execute_result"
    }
   ],
   "source": [
    "dangerous_place_pd = pd.read_csv('space_can_be_a_dangerous_place.csv')\n",
    "dangerous_place_pd.head()"
   ]
  },
  {
   "cell_type": "code",
   "execution_count": 126,
   "metadata": {},
   "outputs": [
    {
     "data": {
      "text/plain": [
       "<matplotlib.axes._subplots.AxesSubplot at 0x7fc0845e3b90>"
      ]
     },
     "execution_count": 126,
     "metadata": {},
     "output_type": "execute_result"
    },
    {
     "data": {
      "image/png": "[encoded data removed]",
      "text/plain": [
       "<Figure size 432x288 with 2 Axes>"
      ]
     },
     "metadata": {
      "needs_background": "light"
     },
     "output_type": "display_data"
    }
   ],
   "source": [
    "import seaborn as sns\n",
    "import matplotlib as plt\n",
    "sns.heatmap(dangerous_place_pd.corr())"
   ]
  },
  {
   "cell_type": "code",
   "execution_count": 111,
   "metadata": {},
   "outputs": [],
   "source": [
    "Y = dangerous_place_pd.dangerous\n",
    "X = dangerous_place_pd.drop('dangerous', axis = 1)"
   ]
  },
  {
   "cell_type": "code",
   "execution_count": 112,
   "metadata": {},
   "outputs": [],
   "source": [
    "clf_rf = RandomForestClassifier()\n",
    "params = {'max_depth' : range(1,10), 'n_estimators' :[10,20,30],\n",
    "          'min_samples_leaf' : range(1,20),'min_samples_split' : range(1,20) }"
   ]
  },
  {
   "cell_type": "code",
   "execution_count": 114,
   "metadata": {},
   "outputs": [],
   "source": [
    "prediction = RandomizedSearchCV(clf_rf, params,cv = 5, n_jobs = -1,verbose = 1)"
   ]
  },
  {
   "cell_type": "code",
   "execution_count": 115,
   "metadata": {},
   "outputs": [
    {
     "name": "stdout",
     "output_type": "stream",
     "text": [
      "Fitting 5 folds for each of 10 candidates, totalling 50 fits\n"
     ]
    },
    {
     "name": "stderr",
     "output_type": "stream",
     "text": [
      "[Parallel(n_jobs=-1)]: Using backend LokyBackend with 8 concurrent workers.\n",
      "[Parallel(n_jobs=-1)]: Done  50 out of  50 | elapsed:   11.9s finished\n"
     ]
    },
    {
     "data": {
      "text/plain": [
       "RandomizedSearchCV(cv=5, error_score=nan,\n",
       "                   estimator=RandomForestClassifier(bootstrap=True,\n",
       "                                                    ccp_alpha=0.0,\n",
       "                                                    class_weight=None,\n",
       "                                                    criterion='gini',\n",
       "                                                    max_depth=None,\n",
       "                                                    max_features='auto',\n",
       "                                                    max_leaf_nodes=None,\n",
       "                                                    max_samples=None,\n",
       "                                                    min_impurity_decrease=0.0,\n",
       "                                                    min_impurity_split=None,\n",
       "                                                    min_samples_leaf=1,\n",
       "                                                    min_samples_split=2,\n",
       "                                                    min_weight_fraction_leaf=0.0,\n",
       "                                                    n_estimators=100,\n",
       "                                                    n_jobs=None,\n",
       "                                                    oob_score=False,\n",
       "                                                    random_state=None,\n",
       "                                                    verbose=0,\n",
       "                                                    warm_start=False),\n",
       "                   iid='deprecated', n_iter=10, n_jobs=-1,\n",
       "                   param_distributions={'max_depth': range(1, 10),\n",
       "                                        'min_samples_leaf': range(1, 20),\n",
       "                                        'min_samples_split': range(1, 20),\n",
       "                                        'n_estimators': [10, 20, 30]},\n",
       "                   pre_dispatch='2*n_jobs', random_state=None, refit=True,\n",
       "                   return_train_score=False, scoring=None, verbose=1)"
      ]
     },
     "execution_count": 115,
     "metadata": {},
     "output_type": "execute_result"
    }
   ],
   "source": [
    "prediction.fit(X,Y)"
   ]
  },
  {
   "cell_type": "code",
   "execution_count": 116,
   "metadata": {},
   "outputs": [
    {
     "data": {
      "text/plain": [
       "{'n_estimators': 30,\n",
       " 'min_samples_split': 4,\n",
       " 'min_samples_leaf': 17,\n",
       " 'max_depth': 7}"
      ]
     },
     "execution_count": 116,
     "metadata": {},
     "output_type": "execute_result"
    }
   ],
   "source": [
    "prediction.best_params_"
   ]
  },
  {
   "cell_type": "code",
   "execution_count": 119,
   "metadata": {},
   "outputs": [
    {
     "data": {
      "text/html": [
       "<div>\n",
       "<style scoped>\n",
       "    .dataframe tbody tr th:only-of-type {\n",
       "        vertical-align: middle;\n",
       "    }\n",
       "\n",
       "    .dataframe tbody tr th {\n",
       "        vertical-align: top;\n",
       "    }\n",
       "\n",
       "    .dataframe thead th {\n",
       "        text-align: right;\n",
       "    }\n",
       "</style>\n",
       "<table border=\"1\" class=\"dataframe\">\n",
       "  <thead>\n",
       "    <tr style=\"text-align: right;\">\n",
       "      <th></th>\n",
       "      <th>impo</th>\n",
       "    </tr>\n",
       "  </thead>\n",
       "  <tbody>\n",
       "    <tr>\n",
       "      <th>phi</th>\n",
       "      <td>0.005830</td>\n",
       "    </tr>\n",
       "    <tr>\n",
       "      <th>r</th>\n",
       "      <td>0.005841</td>\n",
       "    </tr>\n",
       "    <tr>\n",
       "      <th>peradventure_index</th>\n",
       "      <td>0.006175</td>\n",
       "    </tr>\n",
       "    <tr>\n",
       "      <th>dustiness</th>\n",
       "      <td>0.006563</td>\n",
       "    </tr>\n",
       "    <tr>\n",
       "      <th>black_hole_is_near</th>\n",
       "      <td>0.016145</td>\n",
       "    </tr>\n",
       "    <tr>\n",
       "      <th>nearby_system_has_planemo</th>\n",
       "      <td>0.412582</td>\n",
       "    </tr>\n",
       "    <tr>\n",
       "      <th>buggers_were_noticed</th>\n",
       "      <td>0.546864</td>\n",
       "    </tr>\n",
       "  </tbody>\n",
       "</table>\n",
       "</div>"
      ],
      "text/plain": [
       "                               impo\n",
       "phi                        0.005830\n",
       "r                          0.005841\n",
       "peradventure_index         0.006175\n",
       "dustiness                  0.006563\n",
       "black_hole_is_near         0.016145\n",
       "nearby_system_has_planemo  0.412582\n",
       "buggers_were_noticed       0.546864"
      ]
     },
     "execution_count": 119,
     "metadata": {},
     "output_type": "execute_result"
    }
   ],
   "source": [
    "pd.DataFrame(prediction.best_estimator_.feature_importances_,\n",
    "             index = X.columns, columns = ['impo']).sort_values(by = 'impo')"
   ]
  }
 ],
 "metadata": {
  "kernelspec": {
   "display_name": "Python 3",
   "language": "python",
   "name": "python3"
  },
  "language_info": {
   "codemirror_mode": {
    "name": "ipython",
    "version": 3
   },
   "file_extension": ".py",
   "mimetype": "text/x-python",
   "name": "python",
   "nbconvert_exporter": "python",
   "pygments_lexer": "ipython3",
   "version": "3.7.6"
  }
 },
 "nbformat": 4,
 "nbformat_minor": 4
}
